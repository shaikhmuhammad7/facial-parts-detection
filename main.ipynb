{
 "cells": [
  {
   "cell_type": "markdown",
   "id": "7ad6c1ca",
   "metadata": {},
   "source": [
    "# Facial Parts Detection using OpenCV"
   ]
  },
  {
   "cell_type": "code",
   "execution_count": 1,
   "id": "c95be60a",
   "metadata": {},
   "outputs": [],
   "source": [
    "import cv2"
   ]
  },
  {
   "cell_type": "code",
   "execution_count": 2,
   "id": "f70cb26e",
   "metadata": {},
   "outputs": [],
   "source": [
    "# Load the cascades\n",
    "face_cascade = cv2.CascadeClassifier('haarcascade_frontalface_default.xml')\n",
    "eye_cascade = cv2.CascadeClassifier('haarcascade_eye.xml')\n",
    "smile_cascade = cv2.CascadeClassifier('haarcascade_smile.xml')"
   ]
  },
  {
   "cell_type": "code",
   "execution_count": 3,
   "id": "2afb9fc2",
   "metadata": {},
   "outputs": [],
   "source": [
    "# Function that will do the detections\n",
    "def detect(gray, frame):\n",
    "    \n",
    "    # Gray image to be used as input, scale factor and minimum number of features to detect initially\n",
    "    faces = face_cascade.detectMultiScale(gray, 1.3, 5)\n",
    "    \n",
    "    # x and y being the coordinates of the rectangle and w & h being the width and height of the rectangle\n",
    "    for (x, y, w, h) in faces:\n",
    "        # Coordinates of the upper left corner of the rectangle and the lower right corner; color; thickness of the edges\n",
    "        cv2.rectangle(frame, (x, y), (x+w, y+h), (255, 0, 0), 2)\n",
    "        # region of interest - zone inside the rectangle for both color and grayscale image\n",
    "        roi_gray = gray[y:y+h, x:x+w]\n",
    "        roi_color = frame[y:y+h, x:x+w]\n",
    "        eyes = eye_cascade.detectMultiScale(roi_gray, 1.1, 22)\n",
    "        smile = smile_cascade.detectMultiScale(roi_gray, 1.7, 22)\n",
    "        \n",
    "        # to detect the eyes\n",
    "        for (ex, ey, ew, eh) in eyes:\n",
    "            cv2.rectangle(roi_color, (ex, ey), (ex+ew, ey+eh), (0, 255, 0), 2)\n",
    "        for (sx, sy, sw, sh) in smile:\n",
    "            cv2.rectangle(roi_color, (sx, sy), (sx+sw, sy+sh), (0, 0, 255), 2)\n",
    "    return frame"
   ]
  },
  {
   "cell_type": "markdown",
   "id": "4460d160",
   "metadata": {},
   "source": [
    "## Note:\n",
    "- To access the internal camera, change the value of the variable to 0\n",
    "> num = 0\n",
    "\n",
    "- To access the external camera, change the value of the variable to 1 \n",
    "> num = 1"
   ]
  },
  {
   "cell_type": "code",
   "execution_count": 4,
   "id": "07d78384",
   "metadata": {},
   "outputs": [],
   "source": [
    "# Value by default is set to 0\n",
    "num = 0 "
   ]
  },
  {
   "cell_type": "code",
   "execution_count": 5,
   "id": "49dc48d6",
   "metadata": {},
   "outputs": [],
   "source": [
    "# Doing some facial parts detection with the webcam\n",
    "video_capture = cv2.VideoCapture(num)\n",
    "while True:\n",
    "    # Capture the last frame; _ ignored\n",
    "    _, frame = video_capture.read()\n",
    "    # Convert frames to grayscale\n",
    "    gray = cv2.cvtColor(frame, cv2.COLOR_BGR2GRAY)\n",
    "    canvas = detect(gray, frame)\n",
    "    # Display the successive outputs\n",
    "    cv2.imshow('Video', canvas)\n",
    "    # To terminate the process by pressing \"q\"\n",
    "    if cv2.waitKey(1) & 0xFF == ord('q'):\n",
    "        break\n",
    "# Turn off the webcam        \n",
    "video_capture.release()\n",
    "cv2.destroyAllWindows()"
   ]
  }
 ],
 "metadata": {
  "kernelspec": {
   "display_name": "Python 3",
   "language": "python",
   "name": "python3"
  },
  "language_info": {
   "codemirror_mode": {
    "name": "ipython",
    "version": 3
   },
   "file_extension": ".py",
   "mimetype": "text/x-python",
   "name": "python",
   "nbconvert_exporter": "python",
   "pygments_lexer": "ipython3",
   "version": "3.8.0"
  }
 },
 "nbformat": 4,
 "nbformat_minor": 5
}
